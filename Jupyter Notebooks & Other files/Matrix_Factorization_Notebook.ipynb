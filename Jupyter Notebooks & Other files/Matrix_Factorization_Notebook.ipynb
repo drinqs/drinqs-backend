{
 "cells": [
  {
   "cell_type": "code",
   "execution_count": 1,
   "metadata": {},
   "outputs": [],
   "source": [
    "# Notebook from https://www.jiristodulka.com/post/recsys_cf/\n",
    "# import sys\n",
    "# !{sys.executable} -m pip install scikit-surprise\n",
    "# imports\n",
    "import numpy as np\n",
    "import pandas as pd\n",
    "import matplotlib.pyplot as plt\n",
    "import seaborn as sns\n",
    "\n",
    "\n",
    "from collections import defaultdict #data colector\n",
    "\n",
    "#Surprise: https://surprise.readthedocs.io/en/stable/\n",
    "import surprise\n",
    "\n",
    "from surprise.reader import Reader\n",
    "from surprise import Dataset\n",
    "from surprise.model_selection import GridSearchCV\n",
    "\n",
    "  ##CrossValidation\n",
    "from surprise.model_selection import cross_validate\n",
    "\n",
    "\n",
    "  ##Matrix Factorization Algorithms\n",
    "from surprise import *\n",
    "\n",
    "np.random.seed(42) # replicating results"
   ]
  },
  {
   "cell_type": "code",
   "execution_count": 36,
   "metadata": {},
   "outputs": [],
   "source": [
    "df = pd.read_csv(\"./drinqsapp-database-dump/surprise.csv\", sep=',', index_col=0)"
   ]
  },
  {
   "cell_type": "code",
   "execution_count": 37,
   "metadata": {},
   "outputs": [
    {
     "name": "stdout",
     "output_type": "stream",
     "text": [
      "<class 'pandas.core.frame.DataFrame'>\n",
      "Int64Index: 1039 entries, 226 to 1731\n",
      "Data columns (total 3 columns):\n",
      " #   Column    Non-Null Count  Dtype  \n",
      "---  ------    --------------  -----  \n",
      " 0   user_id   1039 non-null   float64\n",
      " 1   ctail_id  1039 non-null   float64\n",
      " 2   rating    1039 non-null   float64\n",
      "dtypes: float64(3)\n",
      "memory usage: 32.5 KB\n"
     ]
    },
    {
     "data": {
      "text/html": [
       "<div>\n",
       "<style scoped>\n",
       "    .dataframe tbody tr th:only-of-type {\n",
       "        vertical-align: middle;\n",
       "    }\n",
       "\n",
       "    .dataframe tbody tr th {\n",
       "        vertical-align: top;\n",
       "    }\n",
       "\n",
       "    .dataframe thead th {\n",
       "        text-align: right;\n",
       "    }\n",
       "</style>\n",
       "<table border=\"1\" class=\"dataframe\">\n",
       "  <thead>\n",
       "    <tr style=\"text-align: right;\">\n",
       "      <th></th>\n",
       "      <th>user_id</th>\n",
       "      <th>ctail_id</th>\n",
       "      <th>rating</th>\n",
       "    </tr>\n",
       "  </thead>\n",
       "  <tbody>\n",
       "    <tr>\n",
       "      <th>226</th>\n",
       "      <td>5.0</td>\n",
       "      <td>767.0</td>\n",
       "      <td>1.0</td>\n",
       "    </tr>\n",
       "    <tr>\n",
       "      <th>227</th>\n",
       "      <td>5.0</td>\n",
       "      <td>1068.0</td>\n",
       "      <td>1.0</td>\n",
       "    </tr>\n",
       "    <tr>\n",
       "      <th>228</th>\n",
       "      <td>5.0</td>\n",
       "      <td>1367.0</td>\n",
       "      <td>1.0</td>\n",
       "    </tr>\n",
       "    <tr>\n",
       "      <th>229</th>\n",
       "      <td>5.0</td>\n",
       "      <td>277.0</td>\n",
       "      <td>1.0</td>\n",
       "    </tr>\n",
       "    <tr>\n",
       "      <th>230</th>\n",
       "      <td>5.0</td>\n",
       "      <td>358.0</td>\n",
       "      <td>-1.0</td>\n",
       "    </tr>\n",
       "  </tbody>\n",
       "</table>\n",
       "</div>"
      ],
      "text/plain": [
       "     user_id  ctail_id  rating\n",
       "226      5.0     767.0     1.0\n",
       "227      5.0    1068.0     1.0\n",
       "228      5.0    1367.0     1.0\n",
       "229      5.0     277.0     1.0\n",
       "230      5.0     358.0    -1.0"
      ]
     },
     "execution_count": 37,
     "metadata": {},
     "output_type": "execute_result"
    }
   ],
   "source": [
    "df.describe()\n",
    "df.info()\n",
    "df.head()"
   ]
  },
  {
   "cell_type": "code",
   "execution_count": 4,
   "metadata": {},
   "outputs": [],
   "source": [
    "reader = Reader(rating_scale=(-1, 1)) #line_format by default order of the fields\n",
    "data = Dataset.load_from_df(df[[\"user_id\", \"ctail_id\", \"rating\"]], reader=reader)\n",
    "\n",
    "trainset = data.build_full_trainset()\n",
    "test_model = trainset.build_testset()\n",
    "testset = trainset.build_anti_testset()\n"
   ]
  },
  {
   "cell_type": "code",
   "execution_count": 93,
   "metadata": {},
   "outputs": [],
   "source": [
    "def rmse_vs_factors(algorithm, data):\n",
    "  \"\"\"Returns: rmse_algorithm i.e. a list of mean RMSE of CV = 5 in cross_validate() for each  factor k in range(1, 101, 1)\n",
    "  100 values \n",
    "  Arg:  i.) algorithm = Matrix factoization algorithm, e.g SVD/NMF/PMF, ii.)  data = surprise.dataset.DatasetAutoFolds\n",
    "  \"\"\"\n",
    "  \n",
    "  rmse_algorithm = []\n",
    "  \n",
    "  for k in range(1, 101, 1):\n",
    "    algo = algorithm(n_factors = k)\n",
    "    \n",
    "    #[\"test_rmse\"] is a numpy array with min accuracy value for each testset\n",
    "    loss_fce = cross_validate(algo, data, measures=['RMSE'], cv=5, verbose=False)[\"test_rmse\"].mean() \n",
    "    rmse_algorithm.append(loss_fce)\n",
    "  \n",
    "  return rmse_algorithm"
   ]
  },
  {
   "cell_type": "code",
   "execution_count": 133,
   "metadata": {},
   "outputs": [],
   "source": [
    "rmse_svd = rmse_vs_factors(SVD,data)"
   ]
  },
  {
   "cell_type": "code",
   "execution_count": 134,
   "metadata": {},
   "outputs": [
    {
     "data": {
      "text/plain": [
       "[0.8483998351299492,\n",
       " 0.8413259174107266,\n",
       " 0.8430058713899637,\n",
       " 0.8452633457608123,\n",
       " 0.8415029408373108,\n",
       " 0.8442990064066764,\n",
       " 0.8422907011736356,\n",
       " 0.8397005401251298,\n",
       " 0.8388710266316535,\n",
       " 0.84457696346803,\n",
       " 0.84266185119175,\n",
       " 0.8481193459507557,\n",
       " 0.8488762516141911,\n",
       " 0.8461381937866654,\n",
       " 0.8474016532962019,\n",
       " 0.8469810401599316,\n",
       " 0.8452480295359166,\n",
       " 0.8443848491419589,\n",
       " 0.8393811772916896,\n",
       " 0.850198288802906,\n",
       " 0.8428558427975279,\n",
       " 0.8480593844722965,\n",
       " 0.8441417485053236,\n",
       " 0.8410035364343497,\n",
       " 0.8434627255658832,\n",
       " 0.8363223115426326,\n",
       " 0.8453608663038181,\n",
       " 0.8510115617077035,\n",
       " 0.8482707725168991,\n",
       " 0.8423048256762252,\n",
       " 0.8508037903913325,\n",
       " 0.838206302826288,\n",
       " 0.8408335500172782,\n",
       " 0.8452679640407637,\n",
       " 0.8474099993010549,\n",
       " 0.8404560129417273,\n",
       " 0.8530984545231723,\n",
       " 0.8451074454968174,\n",
       " 0.843551786760182,\n",
       " 0.8456579363144849,\n",
       " 0.8461659187799808,\n",
       " 0.8448309196452053,\n",
       " 0.8425205492484947,\n",
       " 0.840911162269891,\n",
       " 0.8461444518665072,\n",
       " 0.8492581055455979,\n",
       " 0.8439245229399219,\n",
       " 0.8458922916934588,\n",
       " 0.8438790456263765,\n",
       " 0.8433668752393675,\n",
       " 0.8417381291208894,\n",
       " 0.8535456251825394,\n",
       " 0.8444306853632872,\n",
       " 0.8444458282218792,\n",
       " 0.8508638614252794,\n",
       " 0.8427230538582018,\n",
       " 0.8465608064853452,\n",
       " 0.8491084604921657,\n",
       " 0.8437088540929334,\n",
       " 0.8484923947190858,\n",
       " 0.8486196935876011,\n",
       " 0.8488205529968333,\n",
       " 0.844179211327074,\n",
       " 0.840676319896637,\n",
       " 0.8527471672540449,\n",
       " 0.8477933014180838,\n",
       " 0.8428594718569229,\n",
       " 0.8501253136603554,\n",
       " 0.8465123982159168,\n",
       " 0.8472115823342637,\n",
       " 0.8449956493979143,\n",
       " 0.8451179850938857,\n",
       " 0.853411848633747,\n",
       " 0.8496215502545464,\n",
       " 0.8382236015564516,\n",
       " 0.8389940512836815,\n",
       " 0.8478525213365853,\n",
       " 0.8504930207439632,\n",
       " 0.8472332356705035,\n",
       " 0.8482717717702559,\n",
       " 0.8414486279022189,\n",
       " 0.8515405391875873,\n",
       " 0.8434565874439732,\n",
       " 0.8421312980425796,\n",
       " 0.8468804327265952,\n",
       " 0.8442577965657119,\n",
       " 0.8410704956075911,\n",
       " 0.8519867827424852,\n",
       " 0.8473894486548602,\n",
       " 0.8486167767799419,\n",
       " 0.844728975788159,\n",
       " 0.8423806128213709,\n",
       " 0.8388259549204822,\n",
       " 0.8481062444784184,\n",
       " 0.8440049588716375,\n",
       " 0.8516901084881136,\n",
       " 0.8441957148104582,\n",
       " 0.8364304664453744,\n",
       " 0.8460823267960353,\n",
       " 0.8424796869918723]"
      ]
     },
     "execution_count": 134,
     "metadata": {},
     "output_type": "execute_result"
    }
   ],
   "source": [
    "rmse_svd"
   ]
  },
  {
   "cell_type": "code",
   "execution_count": 135,
   "metadata": {},
   "outputs": [],
   "source": [
    "def plot_rmse(rmse, algorithm):\n",
    "  \"\"\"Returns: sub plots (2x1) of rmse against number of factors. \n",
    "     Vertical line in the second subplot identifies the arg for minimum RMSE\n",
    "    \n",
    "     Arg: i.) rmse = list of mean RMSE returned by rmse_vs_factors(), ii.) algorithm = STRING! of algo \n",
    "  \"\"\"\n",
    "  \n",
    "  plt.figure(num=None, figsize=(11, 5), dpi=80, facecolor='w', edgecolor='k')\n",
    "\n",
    "  plt.subplot(2,1,1)\n",
    "  plt.plot(rmse)\n",
    "  plt.xlim(0,100)\n",
    "  plt.title(\"{0} Performance: RMSE Against Number of Factors\".format(algorithm), size = 20 )\n",
    "  plt.ylabel(\"Mean RMSE (cv=5)\")\n",
    "\n",
    "  plt.subplot(2,1,2)\n",
    "  plt.plot(rmse)\n",
    "  plt.xlim(0,50)\n",
    "  plt.xticks(np.arange(0, 52, step=2))\n",
    "\n",
    "  plt.xlabel(\"{0}(n_factor = k)\".format(algorithm))\n",
    "  plt.ylabel(\"Mean RMSE (cv=5)\")\n",
    "  plt.axvline(np.argmin(rmse), color = \"r\")"
   ]
  },
  {
   "cell_type": "code",
   "execution_count": 136,
   "metadata": {},
   "outputs": [
    {
     "data": {
      "image/png": "[encoded data removed]",
      "text/plain": [
       "<Figure size 880x400 with 2 Axes>"
      ]
     },
     "metadata": {},
     "output_type": "display_data"
    }
   ],
   "source": [
    "plot_rmse(rmse_svd,\"SVD\")"
   ]
  },
  {
   "cell_type": "code",
   "execution_count": 142,
   "metadata": {},
   "outputs": [
    {
     "name": "stdout",
     "output_type": "stream",
     "text": [
      "0.8355686429661928\n",
      "{'reg_all': 0.002, 'lr_all': 0.0005, 'n_epochs': 20, 'n_factors': 23}\n"
     ]
    }
   ],
   "source": [
    "param_grid = {'reg_all': [0.002], 'lr_all': [0.0005], 'n_epochs': [20, 40], 'n_factors': [2, 8,13 , 15, 18, 23, 25, 35, 49]}\n",
    "gs = GridSearchCV(SVD, param_grid, measures=['rmse'], cv=5)\n",
    "gs.fit(data)\n",
    "\n",
    "\n",
    "# best RMSE score\n",
    "print(gs.best_score['rmse'])\n",
    "\n",
    "# combination of parameters that gave the best RMSE score\n",
    "print(gs.best_params['rmse'])"
   ]
  },
  {
   "cell_type": "code",
   "execution_count": 35,
   "metadata": {},
   "outputs": [],
   "source": [
    "algo = SVD()\n",
    "algo.n_epochs = 10\n",
    "algo.n_factors = 15"
   ]
  },
  {
   "cell_type": "code",
   "execution_count": 21,
   "metadata": {},
   "outputs": [
    {
     "data": {
      "text/plain": [
       "[Prediction(uid=5.0, iid=767.0, r_ui=1.0, est=0.34326853507190935, details={'was_impossible': False}),\n",
       " Prediction(uid=5.0, iid=1068.0, r_ui=1.0, est=0.43088390493304435, details={'was_impossible': False})]"
      ]
     },
     "execution_count": 21,
     "metadata": {},
     "output_type": "execute_result"
    }
   ],
   "source": [
    "algo.fit(trainset)\n",
    "\n",
    "\n",
    "# Predict ratings for all pairs (i,j) that are NOT in the training set.\n",
    "testset = trainset.build_anti_testset()\n",
    "\n",
    "predictions = algo.test(testset)\n",
    "test = algo.test(test_model)\n",
    "# subset of the list  predictions\n",
    "dump.dump(r\"C:\\Users\\aebbe\\PycharmProjects\\drinqs-backend\\test_dump.csv\")\n",
    "test[0:2]"
   ]
  },
  {
   "cell_type": "code",
   "execution_count": 22,
   "metadata": {},
   "outputs": [],
   "source": [
    "def get_top_n(predictions, userId, df_input, n = 10):\n",
    "    '''Return the top N (default) movieId for a user,.i.e. userID and history for comparisom\n",
    "    Args:\n",
    "    Returns: \n",
    "  \n",
    "    '''\n",
    "    #Peart I.: Surprise docomuntation\n",
    "    \n",
    "    #1. First map the predictions to each user.\n",
    "    top_n = defaultdict(list)\n",
    "    for uid, iid, true_r, est, _ in predictions:\n",
    "        top_n[uid].append((iid, est))\n",
    "\n",
    "    #2. Then sort the predictions for each user and retrieve the k highest ones.\n",
    "    for uid, user_ratings in top_n.items():\n",
    "        user_ratings.sort(key = lambda x: x[1], reverse = False)\n",
    "        top_n[uid] = user_ratings[: n ]\n",
    "    \n",
    "    #Part II.: inspired by: https://beckernick.github.io/matrix-factorization-recommender/\n",
    "    \n",
    "    #3. Tells how many movies the user has already rated\n",
    "    user_data = df_input[df_input.user_id == (userId)]\n",
    "    print('User {0} has already rated {1} movies.'.format(userId, user_data.shape[0]))\n",
    "\n",
    "    \n",
    "    #4. Data Frame with predictions. \n",
    "    preds_df = pd.DataFrame([(id, pair[0],pair[1]) for id, row in top_n.items() for pair in row],\n",
    "                        columns=[\"user_id\" ,\"ctail_id\",\"rat_pred\"])\n",
    "    \n",
    "    \n",
    "            \n",
    "    #6. Return hist_usr, i.e. top N historically rated movies with (merged) titles and genres for holistic evaluation\n",
    "    hist_usr = df_input[df_input.user_id == (userId) ].sort_values(\"rating\", ascending = False)\n",
    "    \n",
    "    \n",
    "    return hist_usr, preds_df"
   ]
  },
  {
   "cell_type": "code",
   "execution_count": 23,
   "metadata": {},
   "outputs": [],
   "source": [
    "def get_top_n(userId, n=10):\n",
    "    '''Return the top N (default) cocktail_id for a user,.i.e. userID\n",
    "    Args:\n",
    "    Returns:\n",
    "\n",
    "    '''\n",
    "    # for now read from csv\n",
    "    predictions, algo = dump.load(r\"C:\\Users\\aebbe\\PycharmProjects\\drinqs-backend\\test_dump.csv\")\n",
    "\n",
    "    # 1. First map the predictions to each user.\n",
    "    top_n = defaultdict(list)\n",
    "    for uid, iid, true_r, est, _ in predictions:\n",
    "        top_n[uid].append((iid, est))\n",
    "\n",
    "    # 2. Then sort the predictions for each user and retrieve the k highest ones.\n",
    "    for uid, user_ratings in top_n.items():\n",
    "        user_ratings.sort(key=lambda x: x[1], reverse=True)\n",
    "        top_n[uid] = user_ratings[: n]\n",
    "\n",
    "    # Part II.: inspired by: https://beckernick.github.io/matrix-factorization-recommender/\n",
    "\n",
    "    # 4. Data Frame with predictions.\n",
    "    preds_df = pd.DataFrame([(id, pair[0], pair[1]) for id, row in top_n.items() for pair in row],\n",
    "                            columns=[\"user_id\", \"ctail_id\", \"rat_pred\"])\n",
    "    return preds_df"
   ]
  },
  {
   "cell_type": "code",
   "execution_count": 134,
   "metadata": {},
   "outputs": [
    {
     "name": "stdout",
     "output_type": "stream",
     "text": [
      "User 2 has already rated 98 movies.\n"
     ]
    }
   ],
   "source": [
    "hist_SVD_2, pred_SVD_2 = get_top_n(predictions, 2, df)"
   ]
  },
  {
   "cell_type": "code",
   "execution_count": 137,
   "metadata": {},
   "outputs": [
    {
     "data": {
      "text/html": [
       "<div>\n",
       "<style scoped>\n",
       "    .dataframe tbody tr th:only-of-type {\n",
       "        vertical-align: middle;\n",
       "    }\n",
       "\n",
       "    .dataframe tbody tr th {\n",
       "        vertical-align: top;\n",
       "    }\n",
       "\n",
       "    .dataframe thead th {\n",
       "        text-align: right;\n",
       "    }\n",
       "</style>\n",
       "<table border=\"1\" class=\"dataframe\">\n",
       "  <thead>\n",
       "    <tr style=\"text-align: right;\">\n",
       "      <th></th>\n",
       "      <th>user_id</th>\n",
       "      <th>ctail_id</th>\n",
       "      <th>rat_pred</th>\n",
       "    </tr>\n",
       "  </thead>\n",
       "  <tbody>\n",
       "    <tr>\n",
       "      <th>710</th>\n",
       "      <td>107.0</td>\n",
       "      <td>768.0</td>\n",
       "      <td>-0.182217</td>\n",
       "    </tr>\n",
       "    <tr>\n",
       "      <th>711</th>\n",
       "      <td>107.0</td>\n",
       "      <td>1129.0</td>\n",
       "      <td>-0.170547</td>\n",
       "    </tr>\n",
       "    <tr>\n",
       "      <th>580</th>\n",
       "      <td>74.0</td>\n",
       "      <td>1345.0</td>\n",
       "      <td>-0.157169</td>\n",
       "    </tr>\n",
       "    <tr>\n",
       "      <th>20</th>\n",
       "      <td>4.0</td>\n",
       "      <td>1228.0</td>\n",
       "      <td>-0.151704</td>\n",
       "    </tr>\n",
       "    <tr>\n",
       "      <th>500</th>\n",
       "      <td>82.0</td>\n",
       "      <td>1228.0</td>\n",
       "      <td>-0.148026</td>\n",
       "    </tr>\n",
       "    <tr>\n",
       "      <th>...</th>\n",
       "      <td>...</td>\n",
       "      <td>...</td>\n",
       "      <td>...</td>\n",
       "    </tr>\n",
       "    <tr>\n",
       "      <th>159</th>\n",
       "      <td>68.0</td>\n",
       "      <td>295.0</td>\n",
       "      <td>0.322227</td>\n",
       "    </tr>\n",
       "    <tr>\n",
       "      <th>576</th>\n",
       "      <td>62.0</td>\n",
       "      <td>505.0</td>\n",
       "      <td>0.324674</td>\n",
       "    </tr>\n",
       "    <tr>\n",
       "      <th>577</th>\n",
       "      <td>62.0</td>\n",
       "      <td>1115.0</td>\n",
       "      <td>0.327377</td>\n",
       "    </tr>\n",
       "    <tr>\n",
       "      <th>578</th>\n",
       "      <td>62.0</td>\n",
       "      <td>465.0</td>\n",
       "      <td>0.331727</td>\n",
       "    </tr>\n",
       "    <tr>\n",
       "      <th>579</th>\n",
       "      <td>62.0</td>\n",
       "      <td>819.0</td>\n",
       "      <td>0.332008</td>\n",
       "    </tr>\n",
       "  </tbody>\n",
       "</table>\n",
       "<p>1080 rows × 3 columns</p>\n",
       "</div>"
      ],
      "text/plain": [
       "     user_id  ctail_id  rat_pred\n",
       "710    107.0     768.0 -0.182217\n",
       "711    107.0    1129.0 -0.170547\n",
       "580     74.0    1345.0 -0.157169\n",
       "20       4.0    1228.0 -0.151704\n",
       "500     82.0    1228.0 -0.148026\n",
       "..       ...       ...       ...\n",
       "159     68.0     295.0  0.322227\n",
       "576     62.0     505.0  0.324674\n",
       "577     62.0    1115.0  0.327377\n",
       "578     62.0     465.0  0.331727\n",
       "579     62.0     819.0  0.332008\n",
       "\n",
       "[1080 rows x 3 columns]"
      ]
     },
     "execution_count": 137,
     "metadata": {},
     "output_type": "execute_result"
    }
   ],
   "source": [
    "pred_SVD_2.sort_values(\"rat_pred\")"
   ]
  },
  {
   "cell_type": "code",
   "execution_count": null,
   "metadata": {},
   "outputs": [],
   "source": []
  }
 ],
 "metadata": {
  "kernelspec": {
   "display_name": "Python 3",
   "language": "python",
   "name": "python3"
  },
  "language_info": {
   "codemirror_mode": {
    "name": "ipython",
    "version": 3
   },
   "file_extension": ".py",
   "mimetype": "text/x-python",
   "name": "python",
   "nbconvert_exporter": "python",
   "pygments_lexer": "ipython3",
   "version": "3.8.3"
  }
 },
 "nbformat": 4,
 "nbformat_minor": 4
}
